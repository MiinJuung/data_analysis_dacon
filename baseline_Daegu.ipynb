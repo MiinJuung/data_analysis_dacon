{
  "metadata": {
    "kernelspec": {
      "name": "python",
      "display_name": "Python (Pyodide)",
      "language": "python"
    },
    "language_info": {
      "codemirror_mode": {
        "name": "python",
        "version": 3
      },
      "file_extension": ".py",
      "mimetype": "text/x-python",
      "name": "python",
      "nbconvert_exporter": "python",
      "pygments_lexer": "ipython3",
      "version": "3.8"
    },
    "colab": {
      "provenance": []
    }
  },
  "nbformat_minor": 0,
  "nbformat": 4,
  "cells": [
    {
      "cell_type": "code",
      "source": [
        "# install\n",
        "#!pip install micropip\n",
        "!pip3 install pbl_tools"
      ],
      "metadata": {
        "colab": {
          "base_uri": "https://localhost:8080/"
        },
        "id": "2nEYoG24Ev8i",
        "outputId": "c55ccb42-7b6a-4cd2-fb01-a45b812c741d"
      },
      "execution_count": null,
      "outputs": [
        {
          "output_type": "stream",
          "name": "stdout",
          "text": [
            "\u001b[31mERROR: Could not find a version that satisfies the requirement pbl_tools (from versions: none)\u001b[0m\u001b[31m\n",
            "\u001b[0m\u001b[31mERROR: No matching distribution found for pbl_tools\u001b[0m\u001b[31m\n",
            "\u001b[0m"
          ]
        }
      ]
    },
    {
      "cell_type": "code",
      "source": [
        "from google.colab import drive\n",
        "drive.mount('/content/gdrive')"
      ],
      "metadata": {
        "colab": {
          "base_uri": "https://localhost:8080/"
        },
        "id": "LW1FZhdZE-d9",
        "outputId": "a3940e8d-ba2b-49cc-d899-f6cf3a7ce623"
      },
      "execution_count": null,
      "outputs": [
        {
          "output_type": "stream",
          "name": "stdout",
          "text": [
            "Mounted at /content/gdrive\n"
          ]
        }
      ]
    },
    {
      "cell_type": "code",
      "source": [
        "%cd /content/gdrive/My\\ Drive/Data"
      ],
      "metadata": {
        "colab": {
          "base_uri": "https://localhost:8080/"
        },
        "id": "7XScvs0bE-RR",
        "outputId": "0483c395-f26f-4896-9688-b0b916934d11"
      },
      "execution_count": null,
      "outputs": [
        {
          "output_type": "stream",
          "name": "stdout",
          "text": [
            "/content/gdrive/My Drive/Data\n"
          ]
        }
      ]
    },
    {
      "cell_type": "code",
      "source": [
        "#hiddencell\n",
        "import micropip\n",
        "await micropip.install(\"seaborn\")\n",
        "\n",
        "import matplotlib.pyplot as plt\n",
        "import matplotlib.font_manager as fm\n",
        "\n",
        "fe = fm.FontEntry(fname = 'MaruBuri-Regular.otf', name = 'MaruBuri')\n",
        "fm.fontManager.ttflist.insert(0, fe)\n",
        "plt.rc('font', family='MaruBuri')"
      ],
      "metadata": {
        "pbl_cell_type": "hidden_setup_code",
        "step_id": 4887,
        "step_number": 0,
        "deletable": false,
        "trusted": true,
        "id": "YIGuMb2dEI_0"
      },
      "execution_count": null,
      "outputs": []
    },
    {
      "cell_type": "markdown",
      "source": [
        "# **대구 교통 사고 피해 예측 AI 경진대회 Baseline Code**"
      ],
      "metadata": {
        "pbl_cell_type": "markdown",
        "step_id": 4887,
        "step_number": 0,
        "deletable": false,
        "trusted": true,
        "id": "lmkrJJPEEI_1"
      }
    },
    {
      "cell_type": "markdown",
      "source": [
        "## **Fixed Random Seed**  \n",
        "\n",
        "seed 값에 의해 동일한 코드를 사용해도 결과가 다를 수 있기에, 동일한 결과를 위해 seed 값을 고정시킵니다"
      ],
      "metadata": {
        "step_id": 5096,
        "step_number": 1,
        "pbl_cell_type": "markdown",
        "trusted": true,
        "id": "o5v5yi47EI_2"
      }
    },
    {
      "cell_type": "code",
      "source": [
        "import os\n",
        "import random\n",
        "import numpy as np\n",
        "\n",
        "def seed_everything(seed):\n",
        "    random.seed(seed)\n",
        "    os.environ['PYTHONHASHSEED'] = str(seed)\n",
        "    np.random.seed(seed)\n",
        "\n",
        "seed_everything(42)"
      ],
      "metadata": {
        "step_id": 5096,
        "step_number": 1,
        "pbl_cell_type": "code",
        "trusted": true,
        "id": "vCYESjhWEI_3"
      },
      "execution_count": null,
      "outputs": []
    },
    {
      "cell_type": "markdown",
      "source": [
        "## **데이터 불러오기 및 상위행 확인**  \n",
        "\n",
        "train.csv, test.csv 파일을 로드하여 상위행을 출력해 봅시다"
      ],
      "metadata": {
        "step_id": 5096,
        "step_number": 1,
        "pbl_cell_type": "markdown",
        "trusted": true,
        "id": "aLxki_lWEI_3"
      }
    },
    {
      "cell_type": "code",
      "source": [
        "import pandas as pd\n",
        "\n",
        "train_org = pd.read_csv('train.csv')\n",
        "test_org = pd.read_csv('test.csv')\n",
        "\n",
        "display(train_org.head())\n",
        "display(test_org.tail())"
      ],
      "metadata": {
        "step_id": 5096,
        "step_number": 1,
        "pbl_cell_type": "code",
        "trusted": true,
        "colab": {
          "base_uri": "https://localhost:8080/",
          "height": 632
        },
        "id": "m3kFlzwFEI_3",
        "outputId": "25d9e9ad-f45d-4369-db9f-42ab740f3af4"
      },
      "execution_count": null,
      "outputs": [
        {
          "output_type": "display_data",
          "data": {
            "text/plain": [
              "               ID           사고일시   요일 기상상태            시군구      도로형태 노면상태  \\\n",
              "0  ACCIDENT_00000  2019-01-01 00  화요일   맑음   대구광역시 중구 대신동  단일로 - 기타   건조   \n",
              "1  ACCIDENT_00001  2019-01-01 00  화요일   흐림  대구광역시 달서구 감삼동  단일로 - 기타   건조   \n",
              "2  ACCIDENT_00002  2019-01-01 01  화요일   맑음  대구광역시 수성구 두산동  단일로 - 기타   건조   \n",
              "3  ACCIDENT_00003  2019-01-01 02  화요일   맑음   대구광역시 북구 복현동  단일로 - 기타   건조   \n",
              "4  ACCIDENT_00004  2019-01-01 04  화요일   맑음   대구광역시 동구 신암동  단일로 - 기타   건조   \n",
              "\n",
              "   사고유형 사고유형 - 세부분류     법규위반  ... 가해운전자 상해정도 피해운전자 차종 피해운전자 성별 피해운전자 연령  \\\n",
              "0  차대사람  길가장자리구역통행중  안전운전불이행  ...       상해없음      보행자        여      70세   \n",
              "1  차대사람       보도통행중       기타  ...       상해없음      보행자        남      61세   \n",
              "2  차대사람       차도통행중  안전운전불이행  ...       상해없음      보행자        남      38세   \n",
              "3   차대차          추돌  안전운전불이행  ...       상해없음       승용        남      36세   \n",
              "4   차대차          추돌  안전운전불이행  ...       상해없음       승용        남      52세   \n",
              "\n",
              "  피해운전자 상해정도 사망자수 중상자수 경상자수  부상자수  ECLO  \n",
              "0         중상    0    1    0     0     5  \n",
              "1         경상    0    0    1     0     3  \n",
              "2         경상    0    0    1     0     3  \n",
              "3         중상    0    1    0     0     5  \n",
              "4         경상    0    0    1     0     3  \n",
              "\n",
              "[5 rows x 23 columns]"
            ],
            "text/html": [
              "\n",
              "  <div id=\"df-9cd0ae37-db77-4f9d-8423-bb5495d41906\" class=\"colab-df-container\">\n",
              "    <div>\n",
              "<style scoped>\n",
              "    .dataframe tbody tr th:only-of-type {\n",
              "        vertical-align: middle;\n",
              "    }\n",
              "\n",
              "    .dataframe tbody tr th {\n",
              "        vertical-align: top;\n",
              "    }\n",
              "\n",
              "    .dataframe thead th {\n",
              "        text-align: right;\n",
              "    }\n",
              "</style>\n",
              "<table border=\"1\" class=\"dataframe\">\n",
              "  <thead>\n",
              "    <tr style=\"text-align: right;\">\n",
              "      <th></th>\n",
              "      <th>ID</th>\n",
              "      <th>사고일시</th>\n",
              "      <th>요일</th>\n",
              "      <th>기상상태</th>\n",
              "      <th>시군구</th>\n",
              "      <th>도로형태</th>\n",
              "      <th>노면상태</th>\n",
              "      <th>사고유형</th>\n",
              "      <th>사고유형 - 세부분류</th>\n",
              "      <th>법규위반</th>\n",
              "      <th>...</th>\n",
              "      <th>가해운전자 상해정도</th>\n",
              "      <th>피해운전자 차종</th>\n",
              "      <th>피해운전자 성별</th>\n",
              "      <th>피해운전자 연령</th>\n",
              "      <th>피해운전자 상해정도</th>\n",
              "      <th>사망자수</th>\n",
              "      <th>중상자수</th>\n",
              "      <th>경상자수</th>\n",
              "      <th>부상자수</th>\n",
              "      <th>ECLO</th>\n",
              "    </tr>\n",
              "  </thead>\n",
              "  <tbody>\n",
              "    <tr>\n",
              "      <th>0</th>\n",
              "      <td>ACCIDENT_00000</td>\n",
              "      <td>2019-01-01 00</td>\n",
              "      <td>화요일</td>\n",
              "      <td>맑음</td>\n",
              "      <td>대구광역시 중구 대신동</td>\n",
              "      <td>단일로 - 기타</td>\n",
              "      <td>건조</td>\n",
              "      <td>차대사람</td>\n",
              "      <td>길가장자리구역통행중</td>\n",
              "      <td>안전운전불이행</td>\n",
              "      <td>...</td>\n",
              "      <td>상해없음</td>\n",
              "      <td>보행자</td>\n",
              "      <td>여</td>\n",
              "      <td>70세</td>\n",
              "      <td>중상</td>\n",
              "      <td>0</td>\n",
              "      <td>1</td>\n",
              "      <td>0</td>\n",
              "      <td>0</td>\n",
              "      <td>5</td>\n",
              "    </tr>\n",
              "    <tr>\n",
              "      <th>1</th>\n",
              "      <td>ACCIDENT_00001</td>\n",
              "      <td>2019-01-01 00</td>\n",
              "      <td>화요일</td>\n",
              "      <td>흐림</td>\n",
              "      <td>대구광역시 달서구 감삼동</td>\n",
              "      <td>단일로 - 기타</td>\n",
              "      <td>건조</td>\n",
              "      <td>차대사람</td>\n",
              "      <td>보도통행중</td>\n",
              "      <td>기타</td>\n",
              "      <td>...</td>\n",
              "      <td>상해없음</td>\n",
              "      <td>보행자</td>\n",
              "      <td>남</td>\n",
              "      <td>61세</td>\n",
              "      <td>경상</td>\n",
              "      <td>0</td>\n",
              "      <td>0</td>\n",
              "      <td>1</td>\n",
              "      <td>0</td>\n",
              "      <td>3</td>\n",
              "    </tr>\n",
              "    <tr>\n",
              "      <th>2</th>\n",
              "      <td>ACCIDENT_00002</td>\n",
              "      <td>2019-01-01 01</td>\n",
              "      <td>화요일</td>\n",
              "      <td>맑음</td>\n",
              "      <td>대구광역시 수성구 두산동</td>\n",
              "      <td>단일로 - 기타</td>\n",
              "      <td>건조</td>\n",
              "      <td>차대사람</td>\n",
              "      <td>차도통행중</td>\n",
              "      <td>안전운전불이행</td>\n",
              "      <td>...</td>\n",
              "      <td>상해없음</td>\n",
              "      <td>보행자</td>\n",
              "      <td>남</td>\n",
              "      <td>38세</td>\n",
              "      <td>경상</td>\n",
              "      <td>0</td>\n",
              "      <td>0</td>\n",
              "      <td>1</td>\n",
              "      <td>0</td>\n",
              "      <td>3</td>\n",
              "    </tr>\n",
              "    <tr>\n",
              "      <th>3</th>\n",
              "      <td>ACCIDENT_00003</td>\n",
              "      <td>2019-01-01 02</td>\n",
              "      <td>화요일</td>\n",
              "      <td>맑음</td>\n",
              "      <td>대구광역시 북구 복현동</td>\n",
              "      <td>단일로 - 기타</td>\n",
              "      <td>건조</td>\n",
              "      <td>차대차</td>\n",
              "      <td>추돌</td>\n",
              "      <td>안전운전불이행</td>\n",
              "      <td>...</td>\n",
              "      <td>상해없음</td>\n",
              "      <td>승용</td>\n",
              "      <td>남</td>\n",
              "      <td>36세</td>\n",
              "      <td>중상</td>\n",
              "      <td>0</td>\n",
              "      <td>1</td>\n",
              "      <td>0</td>\n",
              "      <td>0</td>\n",
              "      <td>5</td>\n",
              "    </tr>\n",
              "    <tr>\n",
              "      <th>4</th>\n",
              "      <td>ACCIDENT_00004</td>\n",
              "      <td>2019-01-01 04</td>\n",
              "      <td>화요일</td>\n",
              "      <td>맑음</td>\n",
              "      <td>대구광역시 동구 신암동</td>\n",
              "      <td>단일로 - 기타</td>\n",
              "      <td>건조</td>\n",
              "      <td>차대차</td>\n",
              "      <td>추돌</td>\n",
              "      <td>안전운전불이행</td>\n",
              "      <td>...</td>\n",
              "      <td>상해없음</td>\n",
              "      <td>승용</td>\n",
              "      <td>남</td>\n",
              "      <td>52세</td>\n",
              "      <td>경상</td>\n",
              "      <td>0</td>\n",
              "      <td>0</td>\n",
              "      <td>1</td>\n",
              "      <td>0</td>\n",
              "      <td>3</td>\n",
              "    </tr>\n",
              "  </tbody>\n",
              "</table>\n",
              "<p>5 rows × 23 columns</p>\n",
              "</div>\n",
              "    <div class=\"colab-df-buttons\">\n",
              "\n",
              "  <div class=\"colab-df-container\">\n",
              "    <button class=\"colab-df-convert\" onclick=\"convertToInteractive('df-9cd0ae37-db77-4f9d-8423-bb5495d41906')\"\n",
              "            title=\"Convert this dataframe to an interactive table.\"\n",
              "            style=\"display:none;\">\n",
              "\n",
              "  <svg xmlns=\"http://www.w3.org/2000/svg\" height=\"24px\" viewBox=\"0 -960 960 960\">\n",
              "    <path d=\"M120-120v-720h720v720H120Zm60-500h600v-160H180v160Zm220 220h160v-160H400v160Zm0 220h160v-160H400v160ZM180-400h160v-160H180v160Zm440 0h160v-160H620v160ZM180-180h160v-160H180v160Zm440 0h160v-160H620v160Z\"/>\n",
              "  </svg>\n",
              "    </button>\n",
              "\n",
              "  <style>\n",
              "    .colab-df-container {\n",
              "      display:flex;\n",
              "      gap: 12px;\n",
              "    }\n",
              "\n",
              "    .colab-df-convert {\n",
              "      background-color: #E8F0FE;\n",
              "      border: none;\n",
              "      border-radius: 50%;\n",
              "      cursor: pointer;\n",
              "      display: none;\n",
              "      fill: #1967D2;\n",
              "      height: 32px;\n",
              "      padding: 0 0 0 0;\n",
              "      width: 32px;\n",
              "    }\n",
              "\n",
              "    .colab-df-convert:hover {\n",
              "      background-color: #E2EBFA;\n",
              "      box-shadow: 0px 1px 2px rgba(60, 64, 67, 0.3), 0px 1px 3px 1px rgba(60, 64, 67, 0.15);\n",
              "      fill: #174EA6;\n",
              "    }\n",
              "\n",
              "    .colab-df-buttons div {\n",
              "      margin-bottom: 4px;\n",
              "    }\n",
              "\n",
              "    [theme=dark] .colab-df-convert {\n",
              "      background-color: #3B4455;\n",
              "      fill: #D2E3FC;\n",
              "    }\n",
              "\n",
              "    [theme=dark] .colab-df-convert:hover {\n",
              "      background-color: #434B5C;\n",
              "      box-shadow: 0px 1px 3px 1px rgba(0, 0, 0, 0.15);\n",
              "      filter: drop-shadow(0px 1px 2px rgba(0, 0, 0, 0.3));\n",
              "      fill: #FFFFFF;\n",
              "    }\n",
              "  </style>\n",
              "\n",
              "    <script>\n",
              "      const buttonEl =\n",
              "        document.querySelector('#df-9cd0ae37-db77-4f9d-8423-bb5495d41906 button.colab-df-convert');\n",
              "      buttonEl.style.display =\n",
              "        google.colab.kernel.accessAllowed ? 'block' : 'none';\n",
              "\n",
              "      async function convertToInteractive(key) {\n",
              "        const element = document.querySelector('#df-9cd0ae37-db77-4f9d-8423-bb5495d41906');\n",
              "        const dataTable =\n",
              "          await google.colab.kernel.invokeFunction('convertToInteractive',\n",
              "                                                    [key], {});\n",
              "        if (!dataTable) return;\n",
              "\n",
              "        const docLinkHtml = 'Like what you see? Visit the ' +\n",
              "          '<a target=\"_blank\" href=https://colab.research.google.com/notebooks/data_table.ipynb>data table notebook</a>'\n",
              "          + ' to learn more about interactive tables.';\n",
              "        element.innerHTML = '';\n",
              "        dataTable['output_type'] = 'display_data';\n",
              "        await google.colab.output.renderOutput(dataTable, element);\n",
              "        const docLink = document.createElement('div');\n",
              "        docLink.innerHTML = docLinkHtml;\n",
              "        element.appendChild(docLink);\n",
              "      }\n",
              "    </script>\n",
              "  </div>\n",
              "\n",
              "\n",
              "<div id=\"df-9ff752d0-e4f4-493c-ab02-1fc899d0910d\">\n",
              "  <button class=\"colab-df-quickchart\" onclick=\"quickchart('df-9ff752d0-e4f4-493c-ab02-1fc899d0910d')\"\n",
              "            title=\"Suggest charts\"\n",
              "            style=\"display:none;\">\n",
              "\n",
              "<svg xmlns=\"http://www.w3.org/2000/svg\" height=\"24px\"viewBox=\"0 0 24 24\"\n",
              "     width=\"24px\">\n",
              "    <g>\n",
              "        <path d=\"M19 3H5c-1.1 0-2 .9-2 2v14c0 1.1.9 2 2 2h14c1.1 0 2-.9 2-2V5c0-1.1-.9-2-2-2zM9 17H7v-7h2v7zm4 0h-2V7h2v10zm4 0h-2v-4h2v4z\"/>\n",
              "    </g>\n",
              "</svg>\n",
              "  </button>\n",
              "\n",
              "<style>\n",
              "  .colab-df-quickchart {\n",
              "      --bg-color: #E8F0FE;\n",
              "      --fill-color: #1967D2;\n",
              "      --hover-bg-color: #E2EBFA;\n",
              "      --hover-fill-color: #174EA6;\n",
              "      --disabled-fill-color: #AAA;\n",
              "      --disabled-bg-color: #DDD;\n",
              "  }\n",
              "\n",
              "  [theme=dark] .colab-df-quickchart {\n",
              "      --bg-color: #3B4455;\n",
              "      --fill-color: #D2E3FC;\n",
              "      --hover-bg-color: #434B5C;\n",
              "      --hover-fill-color: #FFFFFF;\n",
              "      --disabled-bg-color: #3B4455;\n",
              "      --disabled-fill-color: #666;\n",
              "  }\n",
              "\n",
              "  .colab-df-quickchart {\n",
              "    background-color: var(--bg-color);\n",
              "    border: none;\n",
              "    border-radius: 50%;\n",
              "    cursor: pointer;\n",
              "    display: none;\n",
              "    fill: var(--fill-color);\n",
              "    height: 32px;\n",
              "    padding: 0;\n",
              "    width: 32px;\n",
              "  }\n",
              "\n",
              "  .colab-df-quickchart:hover {\n",
              "    background-color: var(--hover-bg-color);\n",
              "    box-shadow: 0 1px 2px rgba(60, 64, 67, 0.3), 0 1px 3px 1px rgba(60, 64, 67, 0.15);\n",
              "    fill: var(--button-hover-fill-color);\n",
              "  }\n",
              "\n",
              "  .colab-df-quickchart-complete:disabled,\n",
              "  .colab-df-quickchart-complete:disabled:hover {\n",
              "    background-color: var(--disabled-bg-color);\n",
              "    fill: var(--disabled-fill-color);\n",
              "    box-shadow: none;\n",
              "  }\n",
              "\n",
              "  .colab-df-spinner {\n",
              "    border: 2px solid var(--fill-color);\n",
              "    border-color: transparent;\n",
              "    border-bottom-color: var(--fill-color);\n",
              "    animation:\n",
              "      spin 1s steps(1) infinite;\n",
              "  }\n",
              "\n",
              "  @keyframes spin {\n",
              "    0% {\n",
              "      border-color: transparent;\n",
              "      border-bottom-color: var(--fill-color);\n",
              "      border-left-color: var(--fill-color);\n",
              "    }\n",
              "    20% {\n",
              "      border-color: transparent;\n",
              "      border-left-color: var(--fill-color);\n",
              "      border-top-color: var(--fill-color);\n",
              "    }\n",
              "    30% {\n",
              "      border-color: transparent;\n",
              "      border-left-color: var(--fill-color);\n",
              "      border-top-color: var(--fill-color);\n",
              "      border-right-color: var(--fill-color);\n",
              "    }\n",
              "    40% {\n",
              "      border-color: transparent;\n",
              "      border-right-color: var(--fill-color);\n",
              "      border-top-color: var(--fill-color);\n",
              "    }\n",
              "    60% {\n",
              "      border-color: transparent;\n",
              "      border-right-color: var(--fill-color);\n",
              "    }\n",
              "    80% {\n",
              "      border-color: transparent;\n",
              "      border-right-color: var(--fill-color);\n",
              "      border-bottom-color: var(--fill-color);\n",
              "    }\n",
              "    90% {\n",
              "      border-color: transparent;\n",
              "      border-bottom-color: var(--fill-color);\n",
              "    }\n",
              "  }\n",
              "</style>\n",
              "\n",
              "  <script>\n",
              "    async function quickchart(key) {\n",
              "      const quickchartButtonEl =\n",
              "        document.querySelector('#' + key + ' button');\n",
              "      quickchartButtonEl.disabled = true;  // To prevent multiple clicks.\n",
              "      quickchartButtonEl.classList.add('colab-df-spinner');\n",
              "      try {\n",
              "        const charts = await google.colab.kernel.invokeFunction(\n",
              "            'suggestCharts', [key], {});\n",
              "      } catch (error) {\n",
              "        console.error('Error during call to suggestCharts:', error);\n",
              "      }\n",
              "      quickchartButtonEl.classList.remove('colab-df-spinner');\n",
              "      quickchartButtonEl.classList.add('colab-df-quickchart-complete');\n",
              "    }\n",
              "    (() => {\n",
              "      let quickchartButtonEl =\n",
              "        document.querySelector('#df-9ff752d0-e4f4-493c-ab02-1fc899d0910d button');\n",
              "      quickchartButtonEl.style.display =\n",
              "        google.colab.kernel.accessAllowed ? 'block' : 'none';\n",
              "    })();\n",
              "  </script>\n",
              "</div>\n",
              "\n",
              "    </div>\n",
              "  </div>\n"
            ]
          },
          "metadata": {}
        },
        {
          "output_type": "display_data",
          "data": {
            "text/plain": [
              "                   ID           사고일시   요일 기상상태            시군구         도로형태  \\\n",
              "10958  ACCIDENT_50567  2022-12-31 18  토요일   맑음   대구광역시 남구 대명동     단일로 - 터널   \n",
              "10959  ACCIDENT_50568  2022-12-31 18  토요일   맑음  대구광역시 수성구 시지동     단일로 - 기타   \n",
              "10960  ACCIDENT_50569  2022-12-31 20  토요일   맑음  대구광역시 수성구 연호동     단일로 - 기타   \n",
              "10961  ACCIDENT_50570  2022-12-31 20  토요일   맑음  대구광역시 수성구 범물동  교차로 - 교차로부근   \n",
              "10962  ACCIDENT_50571  2022-12-31 21  토요일   맑음   대구광역시 동구 효목동  교차로 - 교차로부근   \n",
              "\n",
              "      노면상태 사고유형  \n",
              "10958   건조  차대차  \n",
              "10959   건조  차대차  \n",
              "10960   건조  차대차  \n",
              "10961   건조  차대차  \n",
              "10962   건조  차대차  "
            ],
            "text/html": [
              "\n",
              "  <div id=\"df-04df7c92-674b-4fb9-b3a6-682338d917b6\" class=\"colab-df-container\">\n",
              "    <div>\n",
              "<style scoped>\n",
              "    .dataframe tbody tr th:only-of-type {\n",
              "        vertical-align: middle;\n",
              "    }\n",
              "\n",
              "    .dataframe tbody tr th {\n",
              "        vertical-align: top;\n",
              "    }\n",
              "\n",
              "    .dataframe thead th {\n",
              "        text-align: right;\n",
              "    }\n",
              "</style>\n",
              "<table border=\"1\" class=\"dataframe\">\n",
              "  <thead>\n",
              "    <tr style=\"text-align: right;\">\n",
              "      <th></th>\n",
              "      <th>ID</th>\n",
              "      <th>사고일시</th>\n",
              "      <th>요일</th>\n",
              "      <th>기상상태</th>\n",
              "      <th>시군구</th>\n",
              "      <th>도로형태</th>\n",
              "      <th>노면상태</th>\n",
              "      <th>사고유형</th>\n",
              "    </tr>\n",
              "  </thead>\n",
              "  <tbody>\n",
              "    <tr>\n",
              "      <th>10958</th>\n",
              "      <td>ACCIDENT_50567</td>\n",
              "      <td>2022-12-31 18</td>\n",
              "      <td>토요일</td>\n",
              "      <td>맑음</td>\n",
              "      <td>대구광역시 남구 대명동</td>\n",
              "      <td>단일로 - 터널</td>\n",
              "      <td>건조</td>\n",
              "      <td>차대차</td>\n",
              "    </tr>\n",
              "    <tr>\n",
              "      <th>10959</th>\n",
              "      <td>ACCIDENT_50568</td>\n",
              "      <td>2022-12-31 18</td>\n",
              "      <td>토요일</td>\n",
              "      <td>맑음</td>\n",
              "      <td>대구광역시 수성구 시지동</td>\n",
              "      <td>단일로 - 기타</td>\n",
              "      <td>건조</td>\n",
              "      <td>차대차</td>\n",
              "    </tr>\n",
              "    <tr>\n",
              "      <th>10960</th>\n",
              "      <td>ACCIDENT_50569</td>\n",
              "      <td>2022-12-31 20</td>\n",
              "      <td>토요일</td>\n",
              "      <td>맑음</td>\n",
              "      <td>대구광역시 수성구 연호동</td>\n",
              "      <td>단일로 - 기타</td>\n",
              "      <td>건조</td>\n",
              "      <td>차대차</td>\n",
              "    </tr>\n",
              "    <tr>\n",
              "      <th>10961</th>\n",
              "      <td>ACCIDENT_50570</td>\n",
              "      <td>2022-12-31 20</td>\n",
              "      <td>토요일</td>\n",
              "      <td>맑음</td>\n",
              "      <td>대구광역시 수성구 범물동</td>\n",
              "      <td>교차로 - 교차로부근</td>\n",
              "      <td>건조</td>\n",
              "      <td>차대차</td>\n",
              "    </tr>\n",
              "    <tr>\n",
              "      <th>10962</th>\n",
              "      <td>ACCIDENT_50571</td>\n",
              "      <td>2022-12-31 21</td>\n",
              "      <td>토요일</td>\n",
              "      <td>맑음</td>\n",
              "      <td>대구광역시 동구 효목동</td>\n",
              "      <td>교차로 - 교차로부근</td>\n",
              "      <td>건조</td>\n",
              "      <td>차대차</td>\n",
              "    </tr>\n",
              "  </tbody>\n",
              "</table>\n",
              "</div>\n",
              "    <div class=\"colab-df-buttons\">\n",
              "\n",
              "  <div class=\"colab-df-container\">\n",
              "    <button class=\"colab-df-convert\" onclick=\"convertToInteractive('df-04df7c92-674b-4fb9-b3a6-682338d917b6')\"\n",
              "            title=\"Convert this dataframe to an interactive table.\"\n",
              "            style=\"display:none;\">\n",
              "\n",
              "  <svg xmlns=\"http://www.w3.org/2000/svg\" height=\"24px\" viewBox=\"0 -960 960 960\">\n",
              "    <path d=\"M120-120v-720h720v720H120Zm60-500h600v-160H180v160Zm220 220h160v-160H400v160Zm0 220h160v-160H400v160ZM180-400h160v-160H180v160Zm440 0h160v-160H620v160ZM180-180h160v-160H180v160Zm440 0h160v-160H620v160Z\"/>\n",
              "  </svg>\n",
              "    </button>\n",
              "\n",
              "  <style>\n",
              "    .colab-df-container {\n",
              "      display:flex;\n",
              "      gap: 12px;\n",
              "    }\n",
              "\n",
              "    .colab-df-convert {\n",
              "      background-color: #E8F0FE;\n",
              "      border: none;\n",
              "      border-radius: 50%;\n",
              "      cursor: pointer;\n",
              "      display: none;\n",
              "      fill: #1967D2;\n",
              "      height: 32px;\n",
              "      padding: 0 0 0 0;\n",
              "      width: 32px;\n",
              "    }\n",
              "\n",
              "    .colab-df-convert:hover {\n",
              "      background-color: #E2EBFA;\n",
              "      box-shadow: 0px 1px 2px rgba(60, 64, 67, 0.3), 0px 1px 3px 1px rgba(60, 64, 67, 0.15);\n",
              "      fill: #174EA6;\n",
              "    }\n",
              "\n",
              "    .colab-df-buttons div {\n",
              "      margin-bottom: 4px;\n",
              "    }\n",
              "\n",
              "    [theme=dark] .colab-df-convert {\n",
              "      background-color: #3B4455;\n",
              "      fill: #D2E3FC;\n",
              "    }\n",
              "\n",
              "    [theme=dark] .colab-df-convert:hover {\n",
              "      background-color: #434B5C;\n",
              "      box-shadow: 0px 1px 3px 1px rgba(0, 0, 0, 0.15);\n",
              "      filter: drop-shadow(0px 1px 2px rgba(0, 0, 0, 0.3));\n",
              "      fill: #FFFFFF;\n",
              "    }\n",
              "  </style>\n",
              "\n",
              "    <script>\n",
              "      const buttonEl =\n",
              "        document.querySelector('#df-04df7c92-674b-4fb9-b3a6-682338d917b6 button.colab-df-convert');\n",
              "      buttonEl.style.display =\n",
              "        google.colab.kernel.accessAllowed ? 'block' : 'none';\n",
              "\n",
              "      async function convertToInteractive(key) {\n",
              "        const element = document.querySelector('#df-04df7c92-674b-4fb9-b3a6-682338d917b6');\n",
              "        const dataTable =\n",
              "          await google.colab.kernel.invokeFunction('convertToInteractive',\n",
              "                                                    [key], {});\n",
              "        if (!dataTable) return;\n",
              "\n",
              "        const docLinkHtml = 'Like what you see? Visit the ' +\n",
              "          '<a target=\"_blank\" href=https://colab.research.google.com/notebooks/data_table.ipynb>data table notebook</a>'\n",
              "          + ' to learn more about interactive tables.';\n",
              "        element.innerHTML = '';\n",
              "        dataTable['output_type'] = 'display_data';\n",
              "        await google.colab.output.renderOutput(dataTable, element);\n",
              "        const docLink = document.createElement('div');\n",
              "        docLink.innerHTML = docLinkHtml;\n",
              "        element.appendChild(docLink);\n",
              "      }\n",
              "    </script>\n",
              "  </div>\n",
              "\n",
              "\n",
              "<div id=\"df-4f2cbe14-aefe-4e8d-8048-fad376617f39\">\n",
              "  <button class=\"colab-df-quickchart\" onclick=\"quickchart('df-4f2cbe14-aefe-4e8d-8048-fad376617f39')\"\n",
              "            title=\"Suggest charts\"\n",
              "            style=\"display:none;\">\n",
              "\n",
              "<svg xmlns=\"http://www.w3.org/2000/svg\" height=\"24px\"viewBox=\"0 0 24 24\"\n",
              "     width=\"24px\">\n",
              "    <g>\n",
              "        <path d=\"M19 3H5c-1.1 0-2 .9-2 2v14c0 1.1.9 2 2 2h14c1.1 0 2-.9 2-2V5c0-1.1-.9-2-2-2zM9 17H7v-7h2v7zm4 0h-2V7h2v10zm4 0h-2v-4h2v4z\"/>\n",
              "    </g>\n",
              "</svg>\n",
              "  </button>\n",
              "\n",
              "<style>\n",
              "  .colab-df-quickchart {\n",
              "      --bg-color: #E8F0FE;\n",
              "      --fill-color: #1967D2;\n",
              "      --hover-bg-color: #E2EBFA;\n",
              "      --hover-fill-color: #174EA6;\n",
              "      --disabled-fill-color: #AAA;\n",
              "      --disabled-bg-color: #DDD;\n",
              "  }\n",
              "\n",
              "  [theme=dark] .colab-df-quickchart {\n",
              "      --bg-color: #3B4455;\n",
              "      --fill-color: #D2E3FC;\n",
              "      --hover-bg-color: #434B5C;\n",
              "      --hover-fill-color: #FFFFFF;\n",
              "      --disabled-bg-color: #3B4455;\n",
              "      --disabled-fill-color: #666;\n",
              "  }\n",
              "\n",
              "  .colab-df-quickchart {\n",
              "    background-color: var(--bg-color);\n",
              "    border: none;\n",
              "    border-radius: 50%;\n",
              "    cursor: pointer;\n",
              "    display: none;\n",
              "    fill: var(--fill-color);\n",
              "    height: 32px;\n",
              "    padding: 0;\n",
              "    width: 32px;\n",
              "  }\n",
              "\n",
              "  .colab-df-quickchart:hover {\n",
              "    background-color: var(--hover-bg-color);\n",
              "    box-shadow: 0 1px 2px rgba(60, 64, 67, 0.3), 0 1px 3px 1px rgba(60, 64, 67, 0.15);\n",
              "    fill: var(--button-hover-fill-color);\n",
              "  }\n",
              "\n",
              "  .colab-df-quickchart-complete:disabled,\n",
              "  .colab-df-quickchart-complete:disabled:hover {\n",
              "    background-color: var(--disabled-bg-color);\n",
              "    fill: var(--disabled-fill-color);\n",
              "    box-shadow: none;\n",
              "  }\n",
              "\n",
              "  .colab-df-spinner {\n",
              "    border: 2px solid var(--fill-color);\n",
              "    border-color: transparent;\n",
              "    border-bottom-color: var(--fill-color);\n",
              "    animation:\n",
              "      spin 1s steps(1) infinite;\n",
              "  }\n",
              "\n",
              "  @keyframes spin {\n",
              "    0% {\n",
              "      border-color: transparent;\n",
              "      border-bottom-color: var(--fill-color);\n",
              "      border-left-color: var(--fill-color);\n",
              "    }\n",
              "    20% {\n",
              "      border-color: transparent;\n",
              "      border-left-color: var(--fill-color);\n",
              "      border-top-color: var(--fill-color);\n",
              "    }\n",
              "    30% {\n",
              "      border-color: transparent;\n",
              "      border-left-color: var(--fill-color);\n",
              "      border-top-color: var(--fill-color);\n",
              "      border-right-color: var(--fill-color);\n",
              "    }\n",
              "    40% {\n",
              "      border-color: transparent;\n",
              "      border-right-color: var(--fill-color);\n",
              "      border-top-color: var(--fill-color);\n",
              "    }\n",
              "    60% {\n",
              "      border-color: transparent;\n",
              "      border-right-color: var(--fill-color);\n",
              "    }\n",
              "    80% {\n",
              "      border-color: transparent;\n",
              "      border-right-color: var(--fill-color);\n",
              "      border-bottom-color: var(--fill-color);\n",
              "    }\n",
              "    90% {\n",
              "      border-color: transparent;\n",
              "      border-bottom-color: var(--fill-color);\n",
              "    }\n",
              "  }\n",
              "</style>\n",
              "\n",
              "  <script>\n",
              "    async function quickchart(key) {\n",
              "      const quickchartButtonEl =\n",
              "        document.querySelector('#' + key + ' button');\n",
              "      quickchartButtonEl.disabled = true;  // To prevent multiple clicks.\n",
              "      quickchartButtonEl.classList.add('colab-df-spinner');\n",
              "      try {\n",
              "        const charts = await google.colab.kernel.invokeFunction(\n",
              "            'suggestCharts', [key], {});\n",
              "      } catch (error) {\n",
              "        console.error('Error during call to suggestCharts:', error);\n",
              "      }\n",
              "      quickchartButtonEl.classList.remove('colab-df-spinner');\n",
              "      quickchartButtonEl.classList.add('colab-df-quickchart-complete');\n",
              "    }\n",
              "    (() => {\n",
              "      let quickchartButtonEl =\n",
              "        document.querySelector('#df-4f2cbe14-aefe-4e8d-8048-fad376617f39 button');\n",
              "      quickchartButtonEl.style.display =\n",
              "        google.colab.kernel.accessAllowed ? 'block' : 'none';\n",
              "    })();\n",
              "  </script>\n",
              "</div>\n",
              "\n",
              "    </div>\n",
              "  </div>\n"
            ]
          },
          "metadata": {}
        }
      ]
    },
    {
      "cell_type": "markdown",
      "source": [
        "## **train, test 데이터 기간 확인하기**  \n",
        "\n",
        "학습(train) 데이터의 기간과 예측 대상이 되는 test 데이터의 기간을 살펴 봅니다"
      ],
      "metadata": {
        "step_id": 5096,
        "step_number": 1,
        "pbl_cell_type": "markdown",
        "trusted": true,
        "id": "yNBVBPXwEI_4"
      }
    },
    {
      "cell_type": "code",
      "source": [
        "display(f\"train : {train_org.iloc[0]['사고일시']} ~ {train_org.iloc[-1]['사고일시']}\")\n",
        "display(f\"test : {test_org.iloc[0]['사고일시']} ~ {test_org.iloc[-1]['사고일시']}\")"
      ],
      "metadata": {
        "step_id": 5096,
        "step_number": 1,
        "pbl_cell_type": "code",
        "trusted": true,
        "colab": {
          "base_uri": "https://localhost:8080/",
          "height": 53
        },
        "id": "y4YKNafgEI_4",
        "outputId": "c680c58d-beff-4b43-c48d-276f724c1c62"
      },
      "execution_count": null,
      "outputs": [
        {
          "output_type": "display_data",
          "data": {
            "text/plain": [
              "'train : 2019-01-01 00 ~ 2021-12-31 23'"
            ],
            "application/vnd.google.colaboratory.intrinsic+json": {
              "type": "string"
            }
          },
          "metadata": {}
        },
        {
          "output_type": "display_data",
          "data": {
            "text/plain": [
              "'test : 2022-01-01 01 ~ 2022-12-31 21'"
            ],
            "application/vnd.google.colaboratory.intrinsic+json": {
              "type": "string"
            }
          },
          "metadata": {}
        }
      ]
    },
    {
      "cell_type": "markdown",
      "source": [
        "## **예측 대상 확인하기**\n",
        "\n",
        "sample_submission.csv를 로드하여 출력 형식을 확인해 봄으로서,\n",
        "대회 페이지 규칙에 기술되어 있는, 예측 대상이 무엇인지 확인해 봅시다.\n",
        "\n",
        "최종적으로 예측해야 하는 값은 'ECLO'(인명피해 심각도) 값입니다.\n",
        "\n",
        "그러나, train데이터 컬럼에 있는 '사망자수', '중상자수', '경상자수', '부상자수'를 각각 예측하여 ECLO 예측값을 구할 수도 있습니다. 즉, ECLO 값을 예측하는 단일 모델로 접근할 수도,  각각을 별도로 예측하는 모델로 접근할 수도 있습니다."
      ],
      "metadata": {
        "step_id": 5096,
        "step_number": 1,
        "pbl_cell_type": "markdown",
        "trusted": true,
        "id": "JCqDEzfEEI_4"
      }
    },
    {
      "cell_type": "markdown",
      "source": [
        "<img src=\"https://drive.google.com/uc?id=19PvSqu8k04D3a-Bskcl-d-Xkckkn2Fvv\">  "
      ],
      "metadata": {
        "step_id": 5096,
        "step_number": 1,
        "pbl_cell_type": "markdown",
        "trusted": true,
        "id": "qfb7vKvDEI_4"
      }
    },
    {
      "cell_type": "code",
      "source": [
        "sample_submission = pd.read_csv(\"sample_submission.csv\")\n",
        "sample_submission.head()"
      ],
      "metadata": {
        "step_id": 5096,
        "step_number": 1,
        "pbl_cell_type": "code",
        "trusted": true,
        "id": "7PExYT3WEI_5",
        "outputId": "e720ea73-7f5f-43ea-93b6-62a58dbea721"
      },
      "execution_count": null,
      "outputs": [
        {
          "execution_count": 57,
          "output_type": "execute_result",
          "data": {
            "text/plain": "               ID  ECLO\n0  ACCIDENT_39609     0\n1  ACCIDENT_39610     0\n2  ACCIDENT_39611     0\n3  ACCIDENT_39612     0\n4  ACCIDENT_39613     0",
            "text/html": "<div>\n<style scoped>\n    .dataframe tbody tr th:only-of-type {\n        vertical-align: middle;\n    }\n\n    .dataframe tbody tr th {\n        vertical-align: top;\n    }\n\n    .dataframe thead th {\n        text-align: right;\n    }\n</style>\n<table border=\"1\" class=\"dataframe\">\n  <thead>\n    <tr style=\"text-align: right;\">\n      <th></th>\n      <th>ID</th>\n      <th>ECLO</th>\n    </tr>\n  </thead>\n  <tbody>\n    <tr>\n      <th>0</th>\n      <td>ACCIDENT_39609</td>\n      <td>0</td>\n    </tr>\n    <tr>\n      <th>1</th>\n      <td>ACCIDENT_39610</td>\n      <td>0</td>\n    </tr>\n    <tr>\n      <th>2</th>\n      <td>ACCIDENT_39611</td>\n      <td>0</td>\n    </tr>\n    <tr>\n      <th>3</th>\n      <td>ACCIDENT_39612</td>\n      <td>0</td>\n    </tr>\n    <tr>\n      <th>4</th>\n      <td>ACCIDENT_39613</td>\n      <td>0</td>\n    </tr>\n  </tbody>\n</table>\n</div>"
          },
          "metadata": {}
        }
      ]
    },
    {
      "cell_type": "markdown",
      "source": [
        "## **데이터 전처리**  \n",
        "\n",
        "현재 '사고일시', '시군구', '도로형태' 컬럼은 반복되는 패턴으로 여러 정보를 포함하고 있습니다\n",
        "이런 반복되는 패턴을 일반화하면 pandas에서 제공하는 str.extract를 통해 한 번에 추출 가능합니다  \n",
        "\n",
        "## **파생 변수 생성 1 : 날짜, 시간정보 생성**\n",
        "\n",
        "'사고일시' 컬럼으로 부터 연도, 월, 일, 시간 정보 추출 및 변환 합니다"
      ],
      "metadata": {
        "step_id": 5168,
        "step_number": 2,
        "pbl_cell_type": "markdown",
        "trusted": true,
        "id": "qPZteGpkEI_5"
      }
    },
    {
      "cell_type": "code",
      "source": [
        "train_df = train_org.copy()\n",
        "test_df = test_org.copy()\n",
        "\n",
        "time_pattern = r'(\\d{4})-(\\d{1,2})-(\\d{1,2}) (\\d{1,2})'\n",
        "\n",
        "train_df[['연', '월', '일', '시간']] = train_org['사고일시'].str.extract(time_pattern)\n",
        "train_df[['연', '월', '일', '시간']] = train_df[['연', '월', '일', '시간']].apply(pd.to_numeric) # 추출된 문자열을 수치화해줍니다\n",
        "train_df = train_df.drop(columns=['사고일시']) # 정보 추출이 완료된 '사고일시' 컬럼은 제거합니다\n",
        "\n",
        "# 해당 과정을 test_x에 대해서도 반복해줍니다\n",
        "test_df[['연', '월', '일', '시간']] = test_org['사고일시'].str.extract(time_pattern)\n",
        "test_df[['연', '월', '일', '시간']] = test_df[['연', '월', '일', '시간']].apply(pd.to_numeric)\n",
        "test_df = test_df.drop(columns=['사고일시'])\n",
        "\n",
        "display(f\"columns of train_df : {train_df.columns}\")\n",
        "display(f\"columns of test_df : {test_df.columns}\")"
      ],
      "metadata": {
        "step_id": 5168,
        "step_number": 2,
        "pbl_cell_type": "code",
        "trusted": true,
        "id": "Sc4d-axvEI_5",
        "outputId": "37c558e4-2468-4d7b-b7aa-e98a1bb6f5e7"
      },
      "execution_count": null,
      "outputs": [
        {
          "output_type": "display_data",
          "data": {
            "text/plain": "\"columns of train_df : Index(['ID', '요일', '기상상태', '시군구', '도로형태', '노면상태', '사고유형', '사고유형 - 세부분류',\\n       '법규위반', '가해운전자 차종', '가해운전자 성별', '가해운전자 연령', '가해운전자 상해정도', '피해운전자 차종',\\n       '피해운전자 성별', '피해운전자 연령', '피해운전자 상해정도', '사망자수', '중상자수', '경상자수', '부상자수',\\n       'ECLO', '연', '월', '일', '시간'],\\n      dtype='object')\""
          },
          "metadata": {}
        },
        {
          "output_type": "display_data",
          "data": {
            "text/plain": "\"columns of test_df : Index(['ID', '요일', '기상상태', '시군구', '도로형태', '노면상태', '사고유형', '연', '월', '일', '시간'], dtype='object')\""
          },
          "metadata": {}
        }
      ]
    },
    {
      "cell_type": "markdown",
      "source": [
        "## **파생 변수 생성 2 : 공간(위치) 정보 생성**\n",
        "\n",
        "'시군구' 컬럼으로부터 의미 있는 공산 정보를 추출 및 변환 합니다"
      ],
      "metadata": {
        "step_id": 5169,
        "step_number": 3,
        "pbl_cell_type": "markdown",
        "trusted": true,
        "id": "6MMFgujVEI_5"
      }
    },
    {
      "cell_type": "code",
      "source": [
        "location_pattern = r'(\\S+) (\\S+) (\\S+)'\n",
        "\n",
        "train_df[['도시', '구', '동']] = train_org['시군구'].str.extract(location_pattern)\n",
        "train_df = train_df.drop(columns=['시군구'])\n",
        "\n",
        "test_df[['도시', '구', '동']] = test_org['시군구'].str.extract(location_pattern)\n",
        "test_df = test_df.drop(columns=['시군구'])\n",
        "\n",
        "display(f\"columns of train_df : {train_df.columns}\")\n",
        "display(f\"columns of test_df : {test_df.columns}\")"
      ],
      "metadata": {
        "step_id": 5169,
        "step_number": 3,
        "pbl_cell_type": "code",
        "trusted": true,
        "id": "PaAC61CeEI_5",
        "outputId": "139466d2-9969-4933-992b-45ffd231b62c"
      },
      "execution_count": null,
      "outputs": [
        {
          "output_type": "display_data",
          "data": {
            "text/plain": "\"columns of train_df : Index(['ID', '요일', '기상상태', '도로형태', '노면상태', '사고유형', '사고유형 - 세부분류', '법규위반',\\n       '가해운전자 차종', '가해운전자 성별', '가해운전자 연령', '가해운전자 상해정도', '피해운전자 차종',\\n       '피해운전자 성별', '피해운전자 연령', '피해운전자 상해정도', '사망자수', '중상자수', '경상자수', '부상자수',\\n       'ECLO', '연', '월', '일', '시간', '도시', '구', '동'],\\n      dtype='object')\""
          },
          "metadata": {}
        },
        {
          "output_type": "display_data",
          "data": {
            "text/plain": "\"columns of test_df : Index(['ID', '요일', '기상상태', '도로형태', '노면상태', '사고유형', '연', '월', '일', '시간', '도시',\\n       '구', '동'],\\n      dtype='object')\""
          },
          "metadata": {}
        }
      ]
    },
    {
      "cell_type": "markdown",
      "source": [
        "## **파생 변수 추출 3 : 도로 형태 정보 추출**  \n",
        "\n",
        "'도로형태' 컬럼은 '단일로 - 기타'와 같은 패턴으로 구성되어 있습니다. 이를 두종류의 독립된 정보로 보고 두개의 컬럼으로 분리하여 생성합니다."
      ],
      "metadata": {
        "step_id": 5170,
        "step_number": 4,
        "pbl_cell_type": "markdown",
        "trusted": true,
        "id": "cSvAuhoDEI_5"
      }
    },
    {
      "cell_type": "code",
      "source": [
        "road_pattern = r'(.+) - (.+)'\n",
        "\n",
        "train_df[['도로형태1', '도로형태2']] = train_org['도로형태'].str.extract(road_pattern)\n",
        "train_df = train_df.drop(columns=['도로형태'])\n",
        "\n",
        "test_df[['도로형태1', '도로형태2']] = test_org['도로형태'].str.extract(road_pattern)\n",
        "test_df = test_df.drop(columns=['도로형태'])\n",
        "\n",
        "display(f\"columns of train_df : {train_df.columns}\")\n",
        "display(f\"columns of test_df : {test_df.columns}\")"
      ],
      "metadata": {
        "step_id": 5170,
        "step_number": 4,
        "pbl_cell_type": "code",
        "trusted": true,
        "id": "yoWBuOy6EI_6",
        "outputId": "1e78c8d6-51f4-4c5f-a2dc-79f16fb0e90e"
      },
      "execution_count": null,
      "outputs": [
        {
          "output_type": "display_data",
          "data": {
            "text/plain": "\"columns of train_df : Index(['ID', '요일', '기상상태', '노면상태', '사고유형', '사고유형 - 세부분류', '법규위반', '가해운전자 차종',\\n       '가해운전자 성별', '가해운전자 연령', '가해운전자 상해정도', '피해운전자 차종', '피해운전자 성별',\\n       '피해운전자 연령', '피해운전자 상해정도', '사망자수', '중상자수', '경상자수', '부상자수', 'ECLO', '연',\\n       '월', '일', '시간', '도시', '구', '동', '도로형태1', '도로형태2'],\\n      dtype='object')\""
          },
          "metadata": {}
        },
        {
          "output_type": "display_data",
          "data": {
            "text/plain": "\"columns of test_df : Index(['ID', '요일', '기상상태', '노면상태', '사고유형', '연', '월', '일', '시간', '도시', '구', '동',\\n       '도로형태1', '도로형태2'],\\n      dtype='object')\""
          },
          "metadata": {}
        }
      ]
    },
    {
      "cell_type": "markdown",
      "source": [
        "## **전처리 결과 확인**\n",
        "\n",
        "지금까지 전처리한 결과를 확인해 봅시다"
      ],
      "metadata": {
        "step_id": 5171,
        "step_number": 5,
        "pbl_cell_type": "markdown",
        "trusted": true,
        "id": "HKZNPYiNEI_6"
      }
    },
    {
      "cell_type": "code",
      "source": [
        "display(train_df.head())\n",
        "display(test_df.head())"
      ],
      "metadata": {
        "step_id": 5171,
        "step_number": 5,
        "pbl_cell_type": "code",
        "trusted": true,
        "id": "UROMs222EI_6",
        "outputId": "f314ed0a-54c1-46a5-8d80-38de162bf42e"
      },
      "execution_count": null,
      "outputs": [
        {
          "output_type": "display_data",
          "data": {
            "text/plain": "               ID   요일 기상상태 노면상태  사고유형 사고유형 - 세부분류     법규위반 가해운전자 차종 가해운전자 성별  \\\n0  ACCIDENT_00000  화요일   맑음   건조  차대사람  길가장자리구역통행중  안전운전불이행       승용        여   \n1  ACCIDENT_00001  화요일   흐림   건조  차대사람       보도통행중       기타       승용        남   \n2  ACCIDENT_00002  화요일   맑음   건조  차대사람       차도통행중  안전운전불이행       승용        남   \n3  ACCIDENT_00003  화요일   맑음   건조   차대차          추돌  안전운전불이행       승용        남   \n4  ACCIDENT_00004  화요일   맑음   건조   차대차          추돌  안전운전불이행       승용        남   \n\n  가해운전자 연령  ... ECLO     연  월  일 시간     도시    구    동  도로형태1  도로형태2  \n0      51세  ...    5  2019  1  1  0  대구광역시   중구  대신동    단일로     기타  \n1      39세  ...    3  2019  1  1  0  대구광역시  달서구  감삼동    단일로     기타  \n2      70세  ...    3  2019  1  1  1  대구광역시  수성구  두산동    단일로     기타  \n3      49세  ...    5  2019  1  1  2  대구광역시   북구  복현동    단일로     기타  \n4      30세  ...    3  2019  1  1  4  대구광역시   동구  신암동    단일로     기타  \n\n[5 rows x 29 columns]",
            "text/html": "<div>\n<style scoped>\n    .dataframe tbody tr th:only-of-type {\n        vertical-align: middle;\n    }\n\n    .dataframe tbody tr th {\n        vertical-align: top;\n    }\n\n    .dataframe thead th {\n        text-align: right;\n    }\n</style>\n<table border=\"1\" class=\"dataframe\">\n  <thead>\n    <tr style=\"text-align: right;\">\n      <th></th>\n      <th>ID</th>\n      <th>요일</th>\n      <th>기상상태</th>\n      <th>노면상태</th>\n      <th>사고유형</th>\n      <th>사고유형 - 세부분류</th>\n      <th>법규위반</th>\n      <th>가해운전자 차종</th>\n      <th>가해운전자 성별</th>\n      <th>가해운전자 연령</th>\n      <th>...</th>\n      <th>ECLO</th>\n      <th>연</th>\n      <th>월</th>\n      <th>일</th>\n      <th>시간</th>\n      <th>도시</th>\n      <th>구</th>\n      <th>동</th>\n      <th>도로형태1</th>\n      <th>도로형태2</th>\n    </tr>\n  </thead>\n  <tbody>\n    <tr>\n      <th>0</th>\n      <td>ACCIDENT_00000</td>\n      <td>화요일</td>\n      <td>맑음</td>\n      <td>건조</td>\n      <td>차대사람</td>\n      <td>길가장자리구역통행중</td>\n      <td>안전운전불이행</td>\n      <td>승용</td>\n      <td>여</td>\n      <td>51세</td>\n      <td>...</td>\n      <td>5</td>\n      <td>2019</td>\n      <td>1</td>\n      <td>1</td>\n      <td>0</td>\n      <td>대구광역시</td>\n      <td>중구</td>\n      <td>대신동</td>\n      <td>단일로</td>\n      <td>기타</td>\n    </tr>\n    <tr>\n      <th>1</th>\n      <td>ACCIDENT_00001</td>\n      <td>화요일</td>\n      <td>흐림</td>\n      <td>건조</td>\n      <td>차대사람</td>\n      <td>보도통행중</td>\n      <td>기타</td>\n      <td>승용</td>\n      <td>남</td>\n      <td>39세</td>\n      <td>...</td>\n      <td>3</td>\n      <td>2019</td>\n      <td>1</td>\n      <td>1</td>\n      <td>0</td>\n      <td>대구광역시</td>\n      <td>달서구</td>\n      <td>감삼동</td>\n      <td>단일로</td>\n      <td>기타</td>\n    </tr>\n    <tr>\n      <th>2</th>\n      <td>ACCIDENT_00002</td>\n      <td>화요일</td>\n      <td>맑음</td>\n      <td>건조</td>\n      <td>차대사람</td>\n      <td>차도통행중</td>\n      <td>안전운전불이행</td>\n      <td>승용</td>\n      <td>남</td>\n      <td>70세</td>\n      <td>...</td>\n      <td>3</td>\n      <td>2019</td>\n      <td>1</td>\n      <td>1</td>\n      <td>1</td>\n      <td>대구광역시</td>\n      <td>수성구</td>\n      <td>두산동</td>\n      <td>단일로</td>\n      <td>기타</td>\n    </tr>\n    <tr>\n      <th>3</th>\n      <td>ACCIDENT_00003</td>\n      <td>화요일</td>\n      <td>맑음</td>\n      <td>건조</td>\n      <td>차대차</td>\n      <td>추돌</td>\n      <td>안전운전불이행</td>\n      <td>승용</td>\n      <td>남</td>\n      <td>49세</td>\n      <td>...</td>\n      <td>5</td>\n      <td>2019</td>\n      <td>1</td>\n      <td>1</td>\n      <td>2</td>\n      <td>대구광역시</td>\n      <td>북구</td>\n      <td>복현동</td>\n      <td>단일로</td>\n      <td>기타</td>\n    </tr>\n    <tr>\n      <th>4</th>\n      <td>ACCIDENT_00004</td>\n      <td>화요일</td>\n      <td>맑음</td>\n      <td>건조</td>\n      <td>차대차</td>\n      <td>추돌</td>\n      <td>안전운전불이행</td>\n      <td>승용</td>\n      <td>남</td>\n      <td>30세</td>\n      <td>...</td>\n      <td>3</td>\n      <td>2019</td>\n      <td>1</td>\n      <td>1</td>\n      <td>4</td>\n      <td>대구광역시</td>\n      <td>동구</td>\n      <td>신암동</td>\n      <td>단일로</td>\n      <td>기타</td>\n    </tr>\n  </tbody>\n</table>\n<p>5 rows × 29 columns</p>\n</div>"
          },
          "metadata": {}
        },
        {
          "output_type": "display_data",
          "data": {
            "text/plain": "               ID   요일 기상상태 노면상태  사고유형     연  월  일  시간     도시    구      동  \\\n0  ACCIDENT_39609  토요일   맑음   건조  차대사람  2022  1  1   1  대구광역시  수성구     상동   \n1  ACCIDENT_39610  토요일   맑음   건조  차대사람  2022  1  1   1  대구광역시  수성구    지산동   \n2  ACCIDENT_39611  토요일   맑음   건조   차대차  2022  1  1   4  대구광역시  수성구  수성동2가   \n3  ACCIDENT_39612  토요일   맑음   건조   차대차  2022  1  1   4  대구광역시  수성구    신매동   \n4  ACCIDENT_39613  토요일   맑음   건조   차대차  2022  1  1   6  대구광역시  달서구    감삼동   \n\n  도로형태1 도로형태2  \n0   교차로  교차로안  \n1   단일로    기타  \n2   교차로  교차로안  \n3   단일로    기타  \n4   교차로  교차로안  ",
            "text/html": "<div>\n<style scoped>\n    .dataframe tbody tr th:only-of-type {\n        vertical-align: middle;\n    }\n\n    .dataframe tbody tr th {\n        vertical-align: top;\n    }\n\n    .dataframe thead th {\n        text-align: right;\n    }\n</style>\n<table border=\"1\" class=\"dataframe\">\n  <thead>\n    <tr style=\"text-align: right;\">\n      <th></th>\n      <th>ID</th>\n      <th>요일</th>\n      <th>기상상태</th>\n      <th>노면상태</th>\n      <th>사고유형</th>\n      <th>연</th>\n      <th>월</th>\n      <th>일</th>\n      <th>시간</th>\n      <th>도시</th>\n      <th>구</th>\n      <th>동</th>\n      <th>도로형태1</th>\n      <th>도로형태2</th>\n    </tr>\n  </thead>\n  <tbody>\n    <tr>\n      <th>0</th>\n      <td>ACCIDENT_39609</td>\n      <td>토요일</td>\n      <td>맑음</td>\n      <td>건조</td>\n      <td>차대사람</td>\n      <td>2022</td>\n      <td>1</td>\n      <td>1</td>\n      <td>1</td>\n      <td>대구광역시</td>\n      <td>수성구</td>\n      <td>상동</td>\n      <td>교차로</td>\n      <td>교차로안</td>\n    </tr>\n    <tr>\n      <th>1</th>\n      <td>ACCIDENT_39610</td>\n      <td>토요일</td>\n      <td>맑음</td>\n      <td>건조</td>\n      <td>차대사람</td>\n      <td>2022</td>\n      <td>1</td>\n      <td>1</td>\n      <td>1</td>\n      <td>대구광역시</td>\n      <td>수성구</td>\n      <td>지산동</td>\n      <td>단일로</td>\n      <td>기타</td>\n    </tr>\n    <tr>\n      <th>2</th>\n      <td>ACCIDENT_39611</td>\n      <td>토요일</td>\n      <td>맑음</td>\n      <td>건조</td>\n      <td>차대차</td>\n      <td>2022</td>\n      <td>1</td>\n      <td>1</td>\n      <td>4</td>\n      <td>대구광역시</td>\n      <td>수성구</td>\n      <td>수성동2가</td>\n      <td>교차로</td>\n      <td>교차로안</td>\n    </tr>\n    <tr>\n      <th>3</th>\n      <td>ACCIDENT_39612</td>\n      <td>토요일</td>\n      <td>맑음</td>\n      <td>건조</td>\n      <td>차대차</td>\n      <td>2022</td>\n      <td>1</td>\n      <td>1</td>\n      <td>4</td>\n      <td>대구광역시</td>\n      <td>수성구</td>\n      <td>신매동</td>\n      <td>단일로</td>\n      <td>기타</td>\n    </tr>\n    <tr>\n      <th>4</th>\n      <td>ACCIDENT_39613</td>\n      <td>토요일</td>\n      <td>맑음</td>\n      <td>건조</td>\n      <td>차대차</td>\n      <td>2022</td>\n      <td>1</td>\n      <td>1</td>\n      <td>6</td>\n      <td>대구광역시</td>\n      <td>달서구</td>\n      <td>감삼동</td>\n      <td>교차로</td>\n      <td>교차로안</td>\n    </tr>\n  </tbody>\n</table>\n</div>"
          },
          "metadata": {}
        }
      ]
    },
    {
      "cell_type": "markdown",
      "source": [
        "## **train, test 데이터의 독립변수, 종속 변수 분리**\n",
        "\n",
        "모델 추론 시점에서 획득할 수 있는 데이터는 학습 시점에서 활용할 수 있는 데이터와 다를 수 있습니다  \n",
        "그렇기에 본 baseline에서는 test 시점에서만 활용할 수 있는 데이터들(test의 column들)만 사용하여 train 데이터를 구성했습니다\n",
        "\n",
        "train_df 중에서 test_x가 가진 column들만 추출하여 train_x(독립변수)를 구성하고, train_df 중에서 예측 목표인 EPDO를 추출하여 train_y(종속변수)를 구성합니다"
      ],
      "metadata": {
        "step_id": 5173,
        "step_number": 7,
        "pbl_cell_type": "markdown",
        "trusted": true,
        "id": "o23Hof-BEI_6"
      }
    },
    {
      "cell_type": "code",
      "source": [
        "test_x = test_df.drop(columns=['ID']).copy()\n",
        "train_x = train_df[test_x.columns].copy()\n",
        "train_y = train_df['ECLO'].copy()"
      ],
      "metadata": {
        "step_id": 5173,
        "step_number": 7,
        "pbl_cell_type": "code",
        "trusted": true,
        "id": "W8VyjuvvEI_6"
      },
      "execution_count": null,
      "outputs": []
    },
    {
      "cell_type": "markdown",
      "source": [
        "## **범주형(Categorical) 변수, 수치형 변수로 변환하기**\n",
        "\n",
        "모델 학습을 위해 train_x의 문자열 타입의 컬럼들을 추출하고, LabelEncoder를 활용하여 이 컬럼들을 모두 수치형 변수로 변환해 보겠습니다"
      ],
      "metadata": {
        "step_id": 5174,
        "step_number": 8,
        "pbl_cell_type": "markdown",
        "trusted": true,
        "id": "E-magSnZEI_6"
      }
    },
    {
      "cell_type": "code",
      "source": [
        "from sklearn.preprocessing import LabelEncoder\n",
        "\n",
        "categorical_features = list(train_x.dtypes[train_x.dtypes == \"object\"].index)\n",
        "# 추출된 문자열 변수 확인\n",
        "display(categorical_features)\n",
        "\n",
        "for i in categorical_features:\n",
        "    le = LabelEncoder()\n",
        "    le=le.fit(train_x[i])\n",
        "    train_x[i]=le.transform(train_x[i])\n",
        "\n",
        "    for case in np.unique(test_x[i]):\n",
        "        if case not in le.classes_:\n",
        "            le.classes_ = np.append(le.classes_, case)\n",
        "    test_x[i]=le.transform(test_x[i])\n",
        "\n",
        "display(train_x.head())\n",
        "display(test_x.head())"
      ],
      "metadata": {
        "step_id": 5174,
        "step_number": 8,
        "pbl_cell_type": "code",
        "trusted": true,
        "id": "eRdn7_QXEI_6",
        "outputId": "4f5afc1b-8ce5-4d5a-ccdf-1b581bf39019"
      },
      "execution_count": null,
      "outputs": [
        {
          "output_type": "display_data",
          "data": {
            "text/plain": "['요일', '기상상태', '노면상태', '사고유형', '도시', '구', '동', '도로형태1', '도로형태2']"
          },
          "metadata": {}
        },
        {
          "output_type": "display_data",
          "data": {
            "text/plain": "   요일  기상상태  노면상태  사고유형     연  월  일  시간  도시  구    동  도로형태1  도로형태2\n0   6     2     0     0  2019  1  1   0   0  7   40      2      5\n1   6     5     0     0  2019  1  1   0   0  1    4      2      5\n2   6     2     0     0  2019  1  1   1   0  6   66      2      5\n3   6     2     0     1  2019  1  1   2   0  4   79      2      5\n4   6     2     0     1  2019  1  1   4   0  3  129      2      5",
            "text/html": "<div>\n<style scoped>\n    .dataframe tbody tr th:only-of-type {\n        vertical-align: middle;\n    }\n\n    .dataframe tbody tr th {\n        vertical-align: top;\n    }\n\n    .dataframe thead th {\n        text-align: right;\n    }\n</style>\n<table border=\"1\" class=\"dataframe\">\n  <thead>\n    <tr style=\"text-align: right;\">\n      <th></th>\n      <th>요일</th>\n      <th>기상상태</th>\n      <th>노면상태</th>\n      <th>사고유형</th>\n      <th>연</th>\n      <th>월</th>\n      <th>일</th>\n      <th>시간</th>\n      <th>도시</th>\n      <th>구</th>\n      <th>동</th>\n      <th>도로형태1</th>\n      <th>도로형태2</th>\n    </tr>\n  </thead>\n  <tbody>\n    <tr>\n      <th>0</th>\n      <td>6</td>\n      <td>2</td>\n      <td>0</td>\n      <td>0</td>\n      <td>2019</td>\n      <td>1</td>\n      <td>1</td>\n      <td>0</td>\n      <td>0</td>\n      <td>7</td>\n      <td>40</td>\n      <td>2</td>\n      <td>5</td>\n    </tr>\n    <tr>\n      <th>1</th>\n      <td>6</td>\n      <td>5</td>\n      <td>0</td>\n      <td>0</td>\n      <td>2019</td>\n      <td>1</td>\n      <td>1</td>\n      <td>0</td>\n      <td>0</td>\n      <td>1</td>\n      <td>4</td>\n      <td>2</td>\n      <td>5</td>\n    </tr>\n    <tr>\n      <th>2</th>\n      <td>6</td>\n      <td>2</td>\n      <td>0</td>\n      <td>0</td>\n      <td>2019</td>\n      <td>1</td>\n      <td>1</td>\n      <td>1</td>\n      <td>0</td>\n      <td>6</td>\n      <td>66</td>\n      <td>2</td>\n      <td>5</td>\n    </tr>\n    <tr>\n      <th>3</th>\n      <td>6</td>\n      <td>2</td>\n      <td>0</td>\n      <td>1</td>\n      <td>2019</td>\n      <td>1</td>\n      <td>1</td>\n      <td>2</td>\n      <td>0</td>\n      <td>4</td>\n      <td>79</td>\n      <td>2</td>\n      <td>5</td>\n    </tr>\n    <tr>\n      <th>4</th>\n      <td>6</td>\n      <td>2</td>\n      <td>0</td>\n      <td>1</td>\n      <td>2019</td>\n      <td>1</td>\n      <td>1</td>\n      <td>4</td>\n      <td>0</td>\n      <td>3</td>\n      <td>129</td>\n      <td>2</td>\n      <td>5</td>\n    </tr>\n  </tbody>\n</table>\n</div>"
          },
          "metadata": {}
        },
        {
          "output_type": "display_data",
          "data": {
            "text/plain": "   요일  기상상태  노면상태  사고유형     연  월  일  시간  도시  구    동  도로형태1  도로형태2\n0   5     2     0     0  2022  1  1   1   0  6   99      0      3\n1   5     2     0     0  2022  1  1   1   0  6  168      2      5\n2   5     2     0     1  2022  1  1   4   0  6  117      0      3\n3   5     2     0     1  2022  1  1   4   0  6  126      2      5\n4   5     2     0     1  2022  1  1   6   0  1    4      0      3",
            "text/html": "<div>\n<style scoped>\n    .dataframe tbody tr th:only-of-type {\n        vertical-align: middle;\n    }\n\n    .dataframe tbody tr th {\n        vertical-align: top;\n    }\n\n    .dataframe thead th {\n        text-align: right;\n    }\n</style>\n<table border=\"1\" class=\"dataframe\">\n  <thead>\n    <tr style=\"text-align: right;\">\n      <th></th>\n      <th>요일</th>\n      <th>기상상태</th>\n      <th>노면상태</th>\n      <th>사고유형</th>\n      <th>연</th>\n      <th>월</th>\n      <th>일</th>\n      <th>시간</th>\n      <th>도시</th>\n      <th>구</th>\n      <th>동</th>\n      <th>도로형태1</th>\n      <th>도로형태2</th>\n    </tr>\n  </thead>\n  <tbody>\n    <tr>\n      <th>0</th>\n      <td>5</td>\n      <td>2</td>\n      <td>0</td>\n      <td>0</td>\n      <td>2022</td>\n      <td>1</td>\n      <td>1</td>\n      <td>1</td>\n      <td>0</td>\n      <td>6</td>\n      <td>99</td>\n      <td>0</td>\n      <td>3</td>\n    </tr>\n    <tr>\n      <th>1</th>\n      <td>5</td>\n      <td>2</td>\n      <td>0</td>\n      <td>0</td>\n      <td>2022</td>\n      <td>1</td>\n      <td>1</td>\n      <td>1</td>\n      <td>0</td>\n      <td>6</td>\n      <td>168</td>\n      <td>2</td>\n      <td>5</td>\n    </tr>\n    <tr>\n      <th>2</th>\n      <td>5</td>\n      <td>2</td>\n      <td>0</td>\n      <td>1</td>\n      <td>2022</td>\n      <td>1</td>\n      <td>1</td>\n      <td>4</td>\n      <td>0</td>\n      <td>6</td>\n      <td>117</td>\n      <td>0</td>\n      <td>3</td>\n    </tr>\n    <tr>\n      <th>3</th>\n      <td>5</td>\n      <td>2</td>\n      <td>0</td>\n      <td>1</td>\n      <td>2022</td>\n      <td>1</td>\n      <td>1</td>\n      <td>4</td>\n      <td>0</td>\n      <td>6</td>\n      <td>126</td>\n      <td>2</td>\n      <td>5</td>\n    </tr>\n    <tr>\n      <th>4</th>\n      <td>5</td>\n      <td>2</td>\n      <td>0</td>\n      <td>1</td>\n      <td>2022</td>\n      <td>1</td>\n      <td>1</td>\n      <td>6</td>\n      <td>0</td>\n      <td>1</td>\n      <td>4</td>\n      <td>0</td>\n      <td>3</td>\n    </tr>\n  </tbody>\n</table>\n</div>"
          },
          "metadata": {}
        }
      ]
    },
    {
      "cell_type": "markdown",
      "source": [
        "## **Model Train & Prediction**\n",
        "\n",
        "전체 학습 데이터에 대하여 학습후 최종 예측을 합니다. 여기서는 DecisionTreeRegressor 모델로 학습하고 예측하는 예시 코드입니다."
      ],
      "metadata": {
        "step_id": 5176,
        "step_number": 10,
        "pbl_cell_type": "markdown",
        "trusted": true,
        "id": "3N6RCG_1EI_7"
      }
    },
    {
      "cell_type": "code",
      "source": [
        "from sklearn.tree import DecisionTreeRegressor\n",
        "model = DecisionTreeRegressor()\n",
        "model.fit(train_x, train_y)\n",
        "\n",
        "prediction = model.predict(test_x)\n",
        "prediction"
      ],
      "metadata": {
        "step_id": 5176,
        "step_number": 10,
        "pbl_cell_type": "code",
        "trusted": true,
        "id": "CQga5-FXEI_7",
        "outputId": "47c5470b-ee0d-4115-e72a-c464d5dd5e08"
      },
      "execution_count": null,
      "outputs": [
        {
          "execution_count": 60,
          "output_type": "execute_result",
          "data": {
            "text/plain": "array([15.,  5., 18., ...,  6.,  1.,  3.])"
          },
          "metadata": {}
        }
      ]
    },
    {
      "cell_type": "markdown",
      "source": [
        "## **Submission 양식 확인**\n",
        "\n",
        "sample_submission.csv 화일 데이터(sample_submission)를 그대로 복사한 후,\n",
        "양식의 'ECLO' 컬럼에 test_x에 대한 ECLO(y) 예측값을 입력합니다"
      ],
      "metadata": {
        "step_id": 5178,
        "step_number": 12,
        "pbl_cell_type": "markdown",
        "trusted": true,
        "id": "2yaMAJrzEI_7"
      }
    },
    {
      "cell_type": "code",
      "source": [
        "baseline_submission = sample_submission.copy()\n",
        "baseline_submission['ECLO'] = prediction\n",
        "baseline_submission"
      ],
      "metadata": {
        "step_id": 5178,
        "step_number": 12,
        "pbl_cell_type": "code",
        "trusted": true,
        "id": "L2mZFg47EI_7",
        "outputId": "d6536954-4072-46f1-ae2c-d5b62fc7cf9d"
      },
      "execution_count": null,
      "outputs": [
        {
          "execution_count": 62,
          "output_type": "execute_result",
          "data": {
            "text/plain": "                   ID  ECLO\n0      ACCIDENT_39609  15.0\n1      ACCIDENT_39610   5.0\n2      ACCIDENT_39611  18.0\n3      ACCIDENT_39612  12.0\n4      ACCIDENT_39613   3.0\n...               ...   ...\n10958  ACCIDENT_50567   1.0\n10959  ACCIDENT_50568   9.0\n10960  ACCIDENT_50569   6.0\n10961  ACCIDENT_50570   1.0\n10962  ACCIDENT_50571   3.0\n\n[10963 rows x 2 columns]",
            "text/html": "<div>\n<style scoped>\n    .dataframe tbody tr th:only-of-type {\n        vertical-align: middle;\n    }\n\n    .dataframe tbody tr th {\n        vertical-align: top;\n    }\n\n    .dataframe thead th {\n        text-align: right;\n    }\n</style>\n<table border=\"1\" class=\"dataframe\">\n  <thead>\n    <tr style=\"text-align: right;\">\n      <th></th>\n      <th>ID</th>\n      <th>ECLO</th>\n    </tr>\n  </thead>\n  <tbody>\n    <tr>\n      <th>0</th>\n      <td>ACCIDENT_39609</td>\n      <td>15.0</td>\n    </tr>\n    <tr>\n      <th>1</th>\n      <td>ACCIDENT_39610</td>\n      <td>5.0</td>\n    </tr>\n    <tr>\n      <th>2</th>\n      <td>ACCIDENT_39611</td>\n      <td>18.0</td>\n    </tr>\n    <tr>\n      <th>3</th>\n      <td>ACCIDENT_39612</td>\n      <td>12.0</td>\n    </tr>\n    <tr>\n      <th>4</th>\n      <td>ACCIDENT_39613</td>\n      <td>3.0</td>\n    </tr>\n    <tr>\n      <th>...</th>\n      <td>...</td>\n      <td>...</td>\n    </tr>\n    <tr>\n      <th>10958</th>\n      <td>ACCIDENT_50567</td>\n      <td>1.0</td>\n    </tr>\n    <tr>\n      <th>10959</th>\n      <td>ACCIDENT_50568</td>\n      <td>9.0</td>\n    </tr>\n    <tr>\n      <th>10960</th>\n      <td>ACCIDENT_50569</td>\n      <td>6.0</td>\n    </tr>\n    <tr>\n      <th>10961</th>\n      <td>ACCIDENT_50570</td>\n      <td>1.0</td>\n    </tr>\n    <tr>\n      <th>10962</th>\n      <td>ACCIDENT_50571</td>\n      <td>3.0</td>\n    </tr>\n  </tbody>\n</table>\n<p>10963 rows × 2 columns</p>\n</div>"
          },
          "metadata": {}
        }
      ]
    },
    {
      "cell_type": "markdown",
      "source": [
        "## **답안지 저장 및 제출하기**"
      ],
      "metadata": {
        "step_id": 5178,
        "step_number": 12,
        "pbl_cell_type": "markdown",
        "trusted": true,
        "id": "O5NaQhHmEI_7"
      }
    },
    {
      "cell_type": "code",
      "source": [
        "baseline_submission.to_csv('baseline_submit.csv', index=False)"
      ],
      "metadata": {
        "step_id": 5178,
        "step_number": 12,
        "pbl_cell_type": "code",
        "trusted": true,
        "id": "eGCnx1RhEI_7"
      },
      "execution_count": null,
      "outputs": []
    }
  ]
}